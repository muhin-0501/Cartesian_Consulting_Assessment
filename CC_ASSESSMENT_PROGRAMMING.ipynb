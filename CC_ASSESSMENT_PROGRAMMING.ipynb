{
  "nbformat": 4,
  "nbformat_minor": 0,
  "metadata": {
    "colab": {
      "name": "CC_ASSESSMENT_PROGRAMMING",
      "provenance": [],
      "collapsed_sections": []
    },
    "kernelspec": {
      "name": "python3",
      "display_name": "Python 3"
    },
    "language_info": {
      "name": "python"
    },
    "accelerator": "TPU",
    "gpuClass": "standard"
  },
  "cells": [
    {
      "cell_type": "code",
      "execution_count": null,
      "metadata": {
        "id": "KGp019jRer8_"
      },
      "outputs": [],
      "source": [
        "from google.colab import drive\n",
        "drive.mount('/content/drive')  "
      ]
    },
    {
      "cell_type": "code",
      "source": [
        "import nltk\n",
        "nltk.download('punkt')"
      ],
      "metadata": {
        "colab": {
          "base_uri": "https://localhost:8080/"
        },
        "id": "6y9uVPXOgw1g",
        "outputId": "1c09bbdf-23b3-402b-fdc9-fcecda6fd34f"
      },
      "execution_count": null,
      "outputs": [
        {
          "output_type": "stream",
          "name": "stderr",
          "text": [
            "[nltk_data] Downloading package punkt to /root/nltk_data...\n",
            "[nltk_data]   Unzipping tokenizers/punkt.zip.\n"
          ]
        },
        {
          "output_type": "execute_result",
          "data": {
            "text/plain": [
              "True"
            ]
          },
          "metadata": {},
          "execution_count": 20
        }
      ]
    },
    {
      "cell_type": "code",
      "source": [
        "text=\"This declaration represents a political commitment among declaration partners to advance a positive vision for the Internet in this era of a united europe\""
      ],
      "metadata": {
        "id": "rt03AXE3k0u3"
      },
      "execution_count": null,
      "outputs": []
    },
    {
      "cell_type": "code",
      "source": [
        "from nltk.tokenize import sent_tokenize, word_tokenize\n",
        "text=word_tokenize(text)\n",
        "print(text)"
      ],
      "metadata": {
        "colab": {
          "base_uri": "https://localhost:8080/"
        },
        "id": "Fol3AWmelNDI",
        "outputId": "be46cb96-dd2c-4271-ae24-8c6b543324fc"
      },
      "execution_count": null,
      "outputs": [
        {
          "output_type": "stream",
          "name": "stdout",
          "text": [
            "['This', 'declaration', 'represents', 'a', 'political', 'commitment', 'among', 'declaration', 'partners', 'to', 'advance', 'a', 'positive', 'vision', 'for', 'the', 'Internet', 'in', 'this', 'era', 'of', 'a', 'united', 'europe']\n"
          ]
        }
      ]
    },
    {
      "cell_type": "code",
      "source": [
        "import re\n",
        "from nltk.tokenize.treebank import TreebankWordDetokenizer as Detok\n",
        "new_text=text[::-1]\n",
        "print(new_text)"
      ],
      "metadata": {
        "colab": {
          "base_uri": "https://localhost:8080/"
        },
        "id": "e67Wrv3AlQqF",
        "outputId": "5c372c02-90a4-4aed-8585-78fb1d894c58"
      },
      "execution_count": null,
      "outputs": [
        {
          "output_type": "stream",
          "name": "stdout",
          "text": [
            "['europe', 'united', 'a', 'of', 'era', 'this', 'in', 'Internet', 'the', 'for', 'vision', 'positive', 'a', 'advance', 'to', 'partners', 'declaration', 'among', 'commitment', 'political', 'a', 'represents', 'declaration', 'This']\n"
          ]
        }
      ]
    },
    {
      "cell_type": "code",
      "source": [
        "detokenizer = Detok()\n",
        "new_text_1 = detokenizer.detokenize(new_text)\n",
        "new_text_1"
      ],
      "metadata": {
        "colab": {
          "base_uri": "https://localhost:8080/",
          "height": 53
        },
        "id": "8UJ2QE0UqExR",
        "outputId": "ce4f9cef-2ea8-4c30-9d0a-1d1bb98cab24"
      },
      "execution_count": null,
      "outputs": [
        {
          "output_type": "execute_result",
          "data": {
            "text/plain": [
              "'europe united a of era this in Internet the for vision positive a advance to partners declaration among commitment political a represents declaration This'"
            ],
            "application/vnd.google.colaboratory.intrinsic+json": {
              "type": "string"
            }
          },
          "metadata": {},
          "execution_count": 54
        }
      ]
    },
    {
      "cell_type": "code",
      "source": [
        "from nltk.probability import FreqDist\n",
        "fdist = FreqDist(t_text)\n",
        "fdist"
      ],
      "metadata": {
        "id": "qgtDDlV1p8nw"
      },
      "execution_count": null,
      "outputs": []
    },
    {
      "cell_type": "code",
      "source": [
        "fdist1 = fdist.most_common(2)\n",
        "fdist1"
      ],
      "metadata": {
        "colab": {
          "base_uri": "https://localhost:8080/"
        },
        "id": "6iG34Csdq8UX",
        "outputId": "e0fd19a9-1376-4517-efb0-6fe69d8f77ba"
      },
      "execution_count": null,
      "outputs": [
        {
          "output_type": "execute_result",
          "data": {
            "text/plain": [
              "[('a', 3), ('declaration', 2)]"
            ]
          },
          "metadata": {},
          "execution_count": 66
        }
      ]
    }
  ]
}